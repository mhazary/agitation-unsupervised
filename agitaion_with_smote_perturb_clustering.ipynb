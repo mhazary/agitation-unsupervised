{
  "nbformat": 4,
  "nbformat_minor": 0,
  "metadata": {
    "colab": {
      "provenance": [],
      "authorship_tag": "ABX9TyN7eqeU55NU6nCF1hZvCWYH",
      "include_colab_link": true
    },
    "kernelspec": {
      "name": "python3",
      "display_name": "Python 3"
    },
    "language_info": {
      "name": "python"
    }
  },
  "cells": [
    {
      "cell_type": "markdown",
      "metadata": {
        "id": "view-in-github",
        "colab_type": "text"
      },
      "source": [
        "<a href=\"https://colab.research.google.com/github/mhazary/agitation-unsupervised/blob/main/agitaion_with_smote_perturb_clustering.ipynb\" target=\"_parent\"><img src=\"https://colab.research.google.com/assets/colab-badge.svg\" alt=\"Open In Colab\"/></a>"
      ]
    },
    {
      "cell_type": "code",
      "execution_count": 1,
      "metadata": {
        "colab": {
          "base_uri": "https://localhost:8080/"
        },
        "id": "1oDLDqfGyjRE",
        "outputId": "136871b3-e436-4a29-8818-956f113ca170"
      },
      "outputs": [
        {
          "output_type": "stream",
          "name": "stdout",
          "text": [
            "Mounted at /content/drive\n"
          ]
        }
      ],
      "source": [
        "from google.colab import drive\n",
        "drive.mount('/content/drive', force_remount=True)"
      ]
    },
    {
      "cell_type": "markdown",
      "source": [
        "# Approach 1: Adaptive SMOTE k_neighbors"
      ],
      "metadata": {
        "id": "plZ6G8CMiHJY"
      }
    },
    {
      "cell_type": "code",
      "source": [
        "import os\n",
        "import glob\n",
        "import pandas as pd\n",
        "import numpy as np\n",
        "from tqdm import tqdm\n",
        "from sklearn.impute import SimpleImputer\n",
        "from sklearn.preprocessing import StandardScaler\n",
        "from sklearn.model_selection import train_test_split\n",
        "from imblearn.over_sampling import SMOTE\n",
        "from sklearn.ensemble import RandomForestClassifier\n",
        "from sklearn.metrics import precision_recall_fscore_support\n",
        "import warnings\n",
        "\n",
        "warnings.filterwarnings(\"ignore\", category=UserWarning)\n",
        "\n",
        "# 📂 Input and output paths\n",
        "FEATURES_DIR = \"/content/drive/My Drive/Agitation_Detection_Project/only_agitation_files\"\n",
        "RESULTS_DIR = \"/content/drive/My Drive/Agitation_Detection_Project/smote_results_csvs\"\n",
        "os.makedirs(RESULTS_DIR, exist_ok=True)\n",
        "\n",
        "# 🔍 Find all feature files\n",
        "files = glob.glob(os.path.join(FEATURES_DIR, '*_final_features.csv'))\n",
        "print(f\"Total files found: {len(files)}\")\n",
        "\n",
        "# 🧾 Initialize counters\n",
        "total_files_attempted = len(files)\n",
        "files_processed_with_smote = 0\n",
        "\n",
        "for file_path in tqdm(files, desc=\"Processing files\"):\n",
        "    try:\n",
        "        df = pd.read_csv(file_path)\n",
        "    except Exception as e:\n",
        "        print(f\"❌ Skipping {os.path.basename(file_path)} due to read error: {e}\")\n",
        "        continue\n",
        "\n",
        "    if 'label' not in df.columns:\n",
        "        print(f\"⚠️ Skipping {os.path.basename(file_path)} - 'label' column missing.\")\n",
        "        continue\n",
        "\n",
        "    positive_count = df['label'].sum()\n",
        "    if positive_count == 0:\n",
        "        print(f\"⚠️ Skipping {os.path.basename(file_path)} - no positive samples.\")\n",
        "        continue\n",
        "\n",
        "    # 🧮 Feature prep\n",
        "    X = df.drop(columns=['label'])\n",
        "    y = df['label']\n",
        "    X_numeric = X.select_dtypes(include=[np.number])\n",
        "    if X_numeric.shape[1] == 0:\n",
        "        print(f\"⚠️ Skipping {os.path.basename(file_path)} - no numeric features.\")\n",
        "        continue\n",
        "\n",
        "    X_imputed = pd.DataFrame(SimpleImputer(strategy='mean').fit_transform(X_numeric), columns=X_numeric.columns)\n",
        "    X_scaled = pd.DataFrame(StandardScaler().fit_transform(X_imputed), columns=X_imputed.columns)\n",
        "\n",
        "    # ⚖️ Handle SMOTE edge case\n",
        "    minority_samples = sum(y == 1)\n",
        "    k_neighbors = min(5, minority_samples - 1)\n",
        "    if minority_samples <= 1:\n",
        "        print(f\"⚠️ Skipping {os.path.basename(file_path)} - insufficient minority samples ({minority_samples}).\")\n",
        "        continue\n",
        "\n",
        "    try:\n",
        "        X_train, X_test, y_train, y_test = train_test_split(\n",
        "            X_scaled, y, test_size=0.3, stratify=y, random_state=42\n",
        "        )\n",
        "    except ValueError as ve:\n",
        "        #print(f\"⚠️ Skipping {os.path.basename(file_path)} - train_test_split error: {ve}\")\n",
        "        continue\n",
        "\n",
        "    try:\n",
        "        smote = SMOTE(random_state=42, k_neighbors=k_neighbors)\n",
        "        X_train_res, y_train_res = smote.fit_resample(X_train, y_train)\n",
        "    except Exception as e:\n",
        "        #print(f\"⚠️ SMOTE failed on {os.path.basename(file_path)}: {e}\")\n",
        "        continue\n",
        "\n",
        "    # ✅ File successfully passed SMOTE\n",
        "    files_processed_with_smote += 1\n",
        "\n",
        "    # 🧠 Train model & evaluate\n",
        "    clf = RandomForestClassifier(random_state=42)\n",
        "    clf.fit(X_train_res, y_train_res)\n",
        "    y_pred = clf.predict(X_test)\n",
        "\n",
        "    precision, recall, f1, _ = precision_recall_fscore_support(\n",
        "        y_test, y_pred, average='binary', zero_division=0\n",
        "    )\n",
        "\n",
        "    # 📄 Save result for this file\n",
        "    result = pd.DataFrame([{\n",
        "        'file': os.path.basename(file_path),\n",
        "        'positive_samples': positive_count,\n",
        "        'k_neighbors': k_neighbors,\n",
        "        'precision': precision,\n",
        "        'recall': recall,\n",
        "        'f1_score': f1\n",
        "    }])\n",
        "\n",
        "    result_file_name = os.path.splitext(os.path.basename(file_path))[0] + \".csv\"\n",
        "    result_path = os.path.join(RESULTS_DIR, result_file_name)\n",
        "    result.to_csv(result_path, index=False)\n",
        "    print(f\"✅ Saved result to: {result_path}\")\n",
        "\n",
        "# 📊 Final summary\n",
        "print(\"\\n📊 Summary:\")\n",
        "print(f\"🧾 Original files found: {total_files_attempted}\")\n",
        "print(f\"✅ Files successfully processed with SMOTE: {files_processed_with_smote}\")"
      ],
      "metadata": {
        "colab": {
          "base_uri": "https://localhost:8080/"
        },
        "id": "djf1CXnvh_i5",
        "outputId": "b537b578-93e7-4bda-c68c-d7e7e1c98283"
      },
      "execution_count": 7,
      "outputs": [
        {
          "output_type": "stream",
          "name": "stdout",
          "text": [
            "Total files found: 147\n"
          ]
        },
        {
          "output_type": "stream",
          "name": "stderr",
          "text": [
            "Processing files:   1%|          | 1/147 [00:00<02:08,  1.14it/s]"
          ]
        },
        {
          "output_type": "stream",
          "name": "stdout",
          "text": [
            "✅ Saved result to: /content/drive/My Drive/Agitation_Detection_Project/smote_results_csvs/Participant10_Day12_final_features.csv\n"
          ]
        },
        {
          "output_type": "stream",
          "name": "stderr",
          "text": [
            "\rProcessing files:   1%|▏         | 2/147 [00:01<01:51,  1.31it/s]"
          ]
        },
        {
          "output_type": "stream",
          "name": "stdout",
          "text": [
            "✅ Saved result to: /content/drive/My Drive/Agitation_Detection_Project/smote_results_csvs/Participant10_Day11_final_features.csv\n"
          ]
        },
        {
          "output_type": "stream",
          "name": "stderr",
          "text": [
            "\rProcessing files:   2%|▏         | 3/147 [00:02<01:36,  1.49it/s]"
          ]
        },
        {
          "output_type": "stream",
          "name": "stdout",
          "text": [
            "✅ Saved result to: /content/drive/My Drive/Agitation_Detection_Project/smote_results_csvs/Participant10_Day21_final_features.csv\n"
          ]
        },
        {
          "output_type": "stream",
          "name": "stderr",
          "text": [
            "\rProcessing files:   4%|▍         | 6/147 [00:02<00:53,  2.62it/s]"
          ]
        },
        {
          "output_type": "stream",
          "name": "stdout",
          "text": [
            "✅ Saved result to: /content/drive/My Drive/Agitation_Detection_Project/smote_results_csvs/Participant10_Day24_final_features.csv\n"
          ]
        },
        {
          "output_type": "stream",
          "name": "stderr",
          "text": [
            "\rProcessing files:   5%|▍         | 7/147 [00:03<00:57,  2.45it/s]"
          ]
        },
        {
          "output_type": "stream",
          "name": "stdout",
          "text": [
            "✅ Saved result to: /content/drive/My Drive/Agitation_Detection_Project/smote_results_csvs/Participant10_Day4_final_features.csv\n"
          ]
        },
        {
          "output_type": "stream",
          "name": "stderr",
          "text": [
            "\rProcessing files:   5%|▌         | 8/147 [00:03<00:59,  2.35it/s]"
          ]
        },
        {
          "output_type": "stream",
          "name": "stdout",
          "text": [
            "✅ Saved result to: /content/drive/My Drive/Agitation_Detection_Project/smote_results_csvs/Participant10_Day3_final_features.csv\n"
          ]
        },
        {
          "output_type": "stream",
          "name": "stderr",
          "text": [
            "\rProcessing files:   7%|▋         | 10/147 [00:04<00:48,  2.85it/s]"
          ]
        },
        {
          "output_type": "stream",
          "name": "stdout",
          "text": [
            "✅ Saved result to: /content/drive/My Drive/Agitation_Detection_Project/smote_results_csvs/Participant11_Day3_final_features.csv\n"
          ]
        },
        {
          "output_type": "stream",
          "name": "stderr",
          "text": [
            "\rProcessing files:   8%|▊         | 12/147 [00:04<00:40,  3.37it/s]"
          ]
        },
        {
          "output_type": "stream",
          "name": "stdout",
          "text": [
            "✅ Saved result to: /content/drive/My Drive/Agitation_Detection_Project/smote_results_csvs/Participant10_Day5_final_features.csv\n"
          ]
        },
        {
          "output_type": "stream",
          "name": "stderr",
          "text": [
            "Processing files:  12%|█▏        | 17/147 [00:05<00:25,  5.18it/s]"
          ]
        },
        {
          "output_type": "stream",
          "name": "stdout",
          "text": [
            "✅ Saved result to: /content/drive/My Drive/Agitation_Detection_Project/smote_results_csvs/Participant11_Day11_final_features.csv\n"
          ]
        },
        {
          "output_type": "stream",
          "name": "stderr",
          "text": [
            "Processing files:  18%|█▊        | 26/147 [00:06<00:18,  6.62it/s]"
          ]
        },
        {
          "output_type": "stream",
          "name": "stdout",
          "text": [
            "✅ Saved result to: /content/drive/My Drive/Agitation_Detection_Project/smote_results_csvs/Participant12_Day1_final_features.csv\n"
          ]
        },
        {
          "output_type": "stream",
          "name": "stderr",
          "text": [
            "Processing files:  21%|██        | 31/147 [00:07<00:19,  6.03it/s]"
          ]
        },
        {
          "output_type": "stream",
          "name": "stdout",
          "text": [
            "✅ Saved result to: /content/drive/My Drive/Agitation_Detection_Project/smote_results_csvs/Participant12_Day34_final_features.csv\n"
          ]
        },
        {
          "output_type": "stream",
          "name": "stderr",
          "text": [
            "\rProcessing files:  22%|██▏       | 33/147 [00:08<00:23,  4.95it/s]"
          ]
        },
        {
          "output_type": "stream",
          "name": "stdout",
          "text": [
            "✅ Saved result to: /content/drive/My Drive/Agitation_Detection_Project/smote_results_csvs/Participant12_Day41_final_features.csv\n"
          ]
        },
        {
          "output_type": "stream",
          "name": "stderr",
          "text": [
            "\rProcessing files:  24%|██▍       | 35/147 [00:09<00:31,  3.52it/s]"
          ]
        },
        {
          "output_type": "stream",
          "name": "stdout",
          "text": [
            "✅ Saved result to: /content/drive/My Drive/Agitation_Detection_Project/smote_results_csvs/Participant12_Day4_final_features.csv\n"
          ]
        },
        {
          "output_type": "stream",
          "name": "stderr",
          "text": [
            "\rProcessing files:  24%|██▍       | 36/147 [00:10<00:42,  2.59it/s]"
          ]
        },
        {
          "output_type": "stream",
          "name": "stdout",
          "text": [
            "✅ Saved result to: /content/drive/My Drive/Agitation_Detection_Project/smote_results_csvs/Participant12_Day6_final_features.csv\n"
          ]
        },
        {
          "output_type": "stream",
          "name": "stderr",
          "text": [
            "Processing files:  28%|██▊       | 41/147 [00:11<00:23,  4.42it/s]"
          ]
        },
        {
          "output_type": "stream",
          "name": "stdout",
          "text": [
            "✅ Saved result to: /content/drive/My Drive/Agitation_Detection_Project/smote_results_csvs/Participant12_Day5_final_features.csv\n",
            "✅ Saved result to: /content/drive/My Drive/Agitation_Detection_Project/smote_results_csvs/Participant13_Day17_final_features.csv\n"
          ]
        },
        {
          "output_type": "stream",
          "name": "stderr",
          "text": [
            "\rProcessing files:  29%|██▉       | 43/147 [00:12<00:33,  3.13it/s]"
          ]
        },
        {
          "output_type": "stream",
          "name": "stdout",
          "text": [
            "✅ Saved result to: /content/drive/My Drive/Agitation_Detection_Project/smote_results_csvs/Participant13_Day18_final_features.csv\n",
            "✅ Saved result to: /content/drive/My Drive/Agitation_Detection_Project/smote_results_csvs/Participant13_Day1_final_features.csv\n"
          ]
        },
        {
          "output_type": "stream",
          "name": "stderr",
          "text": [
            "\rProcessing files:  31%|███       | 45/147 [00:13<00:41,  2.45it/s]"
          ]
        },
        {
          "output_type": "stream",
          "name": "stdout",
          "text": [
            "✅ Saved result to: /content/drive/My Drive/Agitation_Detection_Project/smote_results_csvs/Participant13_Day21_final_features.csv\n"
          ]
        },
        {
          "output_type": "stream",
          "name": "stderr",
          "text": [
            "\rProcessing files:  31%|███▏      | 46/147 [00:14<00:44,  2.27it/s]"
          ]
        },
        {
          "output_type": "stream",
          "name": "stdout",
          "text": [
            "✅ Saved result to: /content/drive/My Drive/Agitation_Detection_Project/smote_results_csvs/Participant13_Day26_final_features.csv\n"
          ]
        },
        {
          "output_type": "stream",
          "name": "stderr",
          "text": [
            "\rProcessing files:  32%|███▏      | 47/147 [00:14<00:51,  1.96it/s]"
          ]
        },
        {
          "output_type": "stream",
          "name": "stdout",
          "text": [
            "✅ Saved result to: /content/drive/My Drive/Agitation_Detection_Project/smote_results_csvs/Participant13_Day23_final_features.csv\n"
          ]
        },
        {
          "output_type": "stream",
          "name": "stderr",
          "text": [
            "\rProcessing files:  33%|███▎      | 48/147 [00:15<00:57,  1.72it/s]"
          ]
        },
        {
          "output_type": "stream",
          "name": "stdout",
          "text": [
            "✅ Saved result to: /content/drive/My Drive/Agitation_Detection_Project/smote_results_csvs/Participant13_Day24_final_features.csv\n"
          ]
        },
        {
          "output_type": "stream",
          "name": "stderr",
          "text": [
            "\rProcessing files:  34%|███▍      | 50/147 [00:16<00:45,  2.15it/s]"
          ]
        },
        {
          "output_type": "stream",
          "name": "stdout",
          "text": [
            "✅ Saved result to: /content/drive/My Drive/Agitation_Detection_Project/smote_results_csvs/Participant13_Day28_final_features.csv\n"
          ]
        },
        {
          "output_type": "stream",
          "name": "stderr",
          "text": [
            "\rProcessing files:  35%|███▍      | 51/147 [00:17<00:49,  1.94it/s]"
          ]
        },
        {
          "output_type": "stream",
          "name": "stdout",
          "text": [
            "✅ Saved result to: /content/drive/My Drive/Agitation_Detection_Project/smote_results_csvs/Participant13_Day2_final_features.csv\n"
          ]
        },
        {
          "output_type": "stream",
          "name": "stderr",
          "text": [
            "\rProcessing files:  37%|███▋      | 54/147 [00:17<00:36,  2.56it/s]"
          ]
        },
        {
          "output_type": "stream",
          "name": "stdout",
          "text": [
            "✅ Saved result to: /content/drive/My Drive/Agitation_Detection_Project/smote_results_csvs/Participant13_Day32_final_features.csv\n"
          ]
        },
        {
          "output_type": "stream",
          "name": "stderr",
          "text": [
            "\rProcessing files:  37%|███▋      | 55/147 [00:18<00:36,  2.49it/s]"
          ]
        },
        {
          "output_type": "stream",
          "name": "stdout",
          "text": [
            "✅ Saved result to: /content/drive/My Drive/Agitation_Detection_Project/smote_results_csvs/Participant13_Day35_final_features.csv\n"
          ]
        },
        {
          "output_type": "stream",
          "name": "stderr",
          "text": [
            "\rProcessing files:  38%|███▊      | 56/147 [00:18<00:41,  2.20it/s]"
          ]
        },
        {
          "output_type": "stream",
          "name": "stdout",
          "text": [
            "✅ Saved result to: /content/drive/My Drive/Agitation_Detection_Project/smote_results_csvs/Participant13_Day36_final_features.csv\n"
          ]
        },
        {
          "output_type": "stream",
          "name": "stderr",
          "text": [
            "\rProcessing files:  39%|███▉      | 58/147 [00:19<00:36,  2.43it/s]"
          ]
        },
        {
          "output_type": "stream",
          "name": "stdout",
          "text": [
            "✅ Saved result to: /content/drive/My Drive/Agitation_Detection_Project/smote_results_csvs/Participant13_Day40_final_features.csv\n"
          ]
        },
        {
          "output_type": "stream",
          "name": "stderr",
          "text": [
            "\rProcessing files:  40%|████      | 59/147 [00:20<00:42,  2.06it/s]"
          ]
        },
        {
          "output_type": "stream",
          "name": "stdout",
          "text": [
            "✅ Saved result to: /content/drive/My Drive/Agitation_Detection_Project/smote_results_csvs/Participant13_Day42_final_features.csv\n"
          ]
        },
        {
          "output_type": "stream",
          "name": "stderr",
          "text": [
            "\rProcessing files:  41%|████      | 60/147 [00:21<00:48,  1.78it/s]"
          ]
        },
        {
          "output_type": "stream",
          "name": "stdout",
          "text": [
            "✅ Saved result to: /content/drive/My Drive/Agitation_Detection_Project/smote_results_csvs/Participant13_Day43_final_features.csv\n"
          ]
        },
        {
          "output_type": "stream",
          "name": "stderr",
          "text": [
            "\rProcessing files:  41%|████▏     | 61/147 [00:21<00:50,  1.69it/s]"
          ]
        },
        {
          "output_type": "stream",
          "name": "stdout",
          "text": [
            "✅ Saved result to: /content/drive/My Drive/Agitation_Detection_Project/smote_results_csvs/Participant13_Day4_final_features.csv\n"
          ]
        },
        {
          "output_type": "stream",
          "name": "stderr",
          "text": [
            "\rProcessing files:  42%|████▏     | 62/147 [00:22<00:55,  1.53it/s]"
          ]
        },
        {
          "output_type": "stream",
          "name": "stdout",
          "text": [
            "✅ Saved result to: /content/drive/My Drive/Agitation_Detection_Project/smote_results_csvs/Participant13_Day51_final_features.csv\n"
          ]
        },
        {
          "output_type": "stream",
          "name": "stderr",
          "text": [
            "\rProcessing files:  44%|████▍     | 65/147 [00:23<00:38,  2.15it/s]"
          ]
        },
        {
          "output_type": "stream",
          "name": "stdout",
          "text": [
            "✅ Saved result to: /content/drive/My Drive/Agitation_Detection_Project/smote_results_csvs/Participant15_Day2_final_features.csv\n"
          ]
        },
        {
          "output_type": "stream",
          "name": "stderr",
          "text": [
            "\rProcessing files:  46%|████▋     | 68/147 [00:24<00:32,  2.45it/s]"
          ]
        },
        {
          "output_type": "stream",
          "name": "stdout",
          "text": [
            "✅ Saved result to: /content/drive/My Drive/Agitation_Detection_Project/smote_results_csvs/Participant16_Day23_final_features.csv\n"
          ]
        },
        {
          "output_type": "stream",
          "name": "stderr",
          "text": [
            "\rProcessing files:  48%|████▊     | 70/147 [00:25<00:30,  2.53it/s]"
          ]
        },
        {
          "output_type": "stream",
          "name": "stdout",
          "text": [
            "✅ Saved result to: /content/drive/My Drive/Agitation_Detection_Project/smote_results_csvs/Participant17_Day6_final_features.csv\n"
          ]
        },
        {
          "output_type": "stream",
          "name": "stderr",
          "text": [
            "\rProcessing files:  48%|████▊     | 71/147 [00:25<00:32,  2.33it/s]"
          ]
        },
        {
          "output_type": "stream",
          "name": "stdout",
          "text": [
            "✅ Saved result to: /content/drive/My Drive/Agitation_Detection_Project/smote_results_csvs/Participant19_Day20_final_features.csv\n"
          ]
        },
        {
          "output_type": "stream",
          "name": "stderr",
          "text": [
            "\rProcessing files:  49%|████▉     | 72/147 [00:26<00:34,  2.19it/s]"
          ]
        },
        {
          "output_type": "stream",
          "name": "stdout",
          "text": [
            "✅ Saved result to: /content/drive/My Drive/Agitation_Detection_Project/smote_results_csvs/Participant19_Day23_final_features.csv\n"
          ]
        },
        {
          "output_type": "stream",
          "name": "stderr",
          "text": [
            "\rProcessing files:  50%|████▉     | 73/147 [00:27<00:35,  2.09it/s]"
          ]
        },
        {
          "output_type": "stream",
          "name": "stdout",
          "text": [
            "✅ Saved result to: /content/drive/My Drive/Agitation_Detection_Project/smote_results_csvs/Participant19_Day22_final_features.csv\n"
          ]
        },
        {
          "output_type": "stream",
          "name": "stderr",
          "text": [
            "\rProcessing files:  50%|█████     | 74/147 [00:27<00:37,  1.96it/s]"
          ]
        },
        {
          "output_type": "stream",
          "name": "stdout",
          "text": [
            "✅ Saved result to: /content/drive/My Drive/Agitation_Detection_Project/smote_results_csvs/Participant19_Day2_final_features.csv\n"
          ]
        },
        {
          "output_type": "stream",
          "name": "stderr",
          "text": [
            "\rProcessing files:  51%|█████     | 75/147 [00:28<00:36,  2.00it/s]"
          ]
        },
        {
          "output_type": "stream",
          "name": "stdout",
          "text": [
            "✅ Saved result to: /content/drive/My Drive/Agitation_Detection_Project/smote_results_csvs/Participant19_Day27_final_features.csv\n"
          ]
        },
        {
          "output_type": "stream",
          "name": "stderr",
          "text": [
            "\rProcessing files:  52%|█████▏    | 76/147 [00:28<00:38,  1.86it/s]"
          ]
        },
        {
          "output_type": "stream",
          "name": "stdout",
          "text": [
            "✅ Saved result to: /content/drive/My Drive/Agitation_Detection_Project/smote_results_csvs/Participant19_Day4_final_features.csv\n"
          ]
        },
        {
          "output_type": "stream",
          "name": "stderr",
          "text": [
            "\rProcessing files:  52%|█████▏    | 77/147 [00:29<00:39,  1.78it/s]"
          ]
        },
        {
          "output_type": "stream",
          "name": "stdout",
          "text": [
            "✅ Saved result to: /content/drive/My Drive/Agitation_Detection_Project/smote_results_csvs/Participant19_Day34_final_features.csv\n"
          ]
        },
        {
          "output_type": "stream",
          "name": "stderr",
          "text": [
            "\rProcessing files:  53%|█████▎    | 78/147 [00:29<00:39,  1.75it/s]"
          ]
        },
        {
          "output_type": "stream",
          "name": "stdout",
          "text": [
            "✅ Saved result to: /content/drive/My Drive/Agitation_Detection_Project/smote_results_csvs/Participant19_Day3_final_features.csv\n"
          ]
        },
        {
          "output_type": "stream",
          "name": "stderr",
          "text": [
            "\rProcessing files:  54%|█████▎    | 79/147 [00:30<00:37,  1.81it/s]"
          ]
        },
        {
          "output_type": "stream",
          "name": "stdout",
          "text": [
            "✅ Saved result to: /content/drive/My Drive/Agitation_Detection_Project/smote_results_csvs/Participant19_Day30_final_features.csv\n"
          ]
        },
        {
          "output_type": "stream",
          "name": "stderr",
          "text": [
            "\rProcessing files:  54%|█████▍    | 80/147 [00:31<00:46,  1.45it/s]"
          ]
        },
        {
          "output_type": "stream",
          "name": "stdout",
          "text": [
            "✅ Saved result to: /content/drive/My Drive/Agitation_Detection_Project/smote_results_csvs/Participant1_Day11_final_features.csv\n"
          ]
        },
        {
          "output_type": "stream",
          "name": "stderr",
          "text": [
            "\rProcessing files:  55%|█████▌    | 81/147 [00:32<00:44,  1.49it/s]"
          ]
        },
        {
          "output_type": "stream",
          "name": "stdout",
          "text": [
            "✅ Saved result to: /content/drive/My Drive/Agitation_Detection_Project/smote_results_csvs/Participant19_Day8_final_features.csv\n"
          ]
        },
        {
          "output_type": "stream",
          "name": "stderr",
          "text": [
            "\rProcessing files:  56%|█████▌    | 82/147 [00:33<00:50,  1.29it/s]"
          ]
        },
        {
          "output_type": "stream",
          "name": "stdout",
          "text": [
            "✅ Saved result to: /content/drive/My Drive/Agitation_Detection_Project/smote_results_csvs/Participant1_Day12_final_features.csv\n"
          ]
        },
        {
          "output_type": "stream",
          "name": "stderr",
          "text": [
            "\rProcessing files:  56%|█████▋    | 83/147 [00:33<00:48,  1.33it/s]"
          ]
        },
        {
          "output_type": "stream",
          "name": "stdout",
          "text": [
            "✅ Saved result to: /content/drive/My Drive/Agitation_Detection_Project/smote_results_csvs/Participant1_Day13_final_features.csv\n"
          ]
        },
        {
          "output_type": "stream",
          "name": "stderr",
          "text": [
            "\rProcessing files:  57%|█████▋    | 84/147 [00:35<00:58,  1.08it/s]"
          ]
        },
        {
          "output_type": "stream",
          "name": "stdout",
          "text": [
            "✅ Saved result to: /content/drive/My Drive/Agitation_Detection_Project/smote_results_csvs/Participant1_Day15_final_features.csv\n"
          ]
        },
        {
          "output_type": "stream",
          "name": "stderr",
          "text": [
            "\rProcessing files:  58%|█████▊    | 85/147 [00:36<01:03,  1.02s/it]"
          ]
        },
        {
          "output_type": "stream",
          "name": "stdout",
          "text": [
            "✅ Saved result to: /content/drive/My Drive/Agitation_Detection_Project/smote_results_csvs/Participant1_Day14_final_features.csv\n"
          ]
        },
        {
          "output_type": "stream",
          "name": "stderr",
          "text": [
            "\rProcessing files:  59%|█████▊    | 86/147 [00:37<01:07,  1.10s/it]"
          ]
        },
        {
          "output_type": "stream",
          "name": "stdout",
          "text": [
            "✅ Saved result to: /content/drive/My Drive/Agitation_Detection_Project/smote_results_csvs/Participant1_Day18_final_features.csv\n"
          ]
        },
        {
          "output_type": "stream",
          "name": "stderr",
          "text": [
            "\rProcessing files:  59%|█████▉    | 87/147 [00:38<01:03,  1.06s/it]"
          ]
        },
        {
          "output_type": "stream",
          "name": "stdout",
          "text": [
            "✅ Saved result to: /content/drive/My Drive/Agitation_Detection_Project/smote_results_csvs/Participant1_Day1_final_features.csv\n"
          ]
        },
        {
          "output_type": "stream",
          "name": "stderr",
          "text": [
            "\rProcessing files:  60%|█████▉    | 88/147 [00:39<00:55,  1.06it/s]"
          ]
        },
        {
          "output_type": "stream",
          "name": "stdout",
          "text": [
            "✅ Saved result to: /content/drive/My Drive/Agitation_Detection_Project/smote_results_csvs/Participant1_Day17_final_features.csv\n"
          ]
        },
        {
          "output_type": "stream",
          "name": "stderr",
          "text": [
            "\rProcessing files:  61%|██████    | 89/147 [00:40<00:55,  1.04it/s]"
          ]
        },
        {
          "output_type": "stream",
          "name": "stdout",
          "text": [
            "✅ Saved result to: /content/drive/My Drive/Agitation_Detection_Project/smote_results_csvs/Participant1_Day16_final_features.csv\n"
          ]
        },
        {
          "output_type": "stream",
          "name": "stderr",
          "text": [
            "\rProcessing files:  61%|██████    | 90/147 [00:40<00:46,  1.23it/s]"
          ]
        },
        {
          "output_type": "stream",
          "name": "stdout",
          "text": [
            "✅ Saved result to: /content/drive/My Drive/Agitation_Detection_Project/smote_results_csvs/Participant1_Day25_final_features.csv\n"
          ]
        },
        {
          "output_type": "stream",
          "name": "stderr",
          "text": [
            "\rProcessing files:  62%|██████▏   | 91/147 [00:41<00:41,  1.34it/s]"
          ]
        },
        {
          "output_type": "stream",
          "name": "stdout",
          "text": [
            "✅ Saved result to: /content/drive/My Drive/Agitation_Detection_Project/smote_results_csvs/Participant1_Day26_final_features.csv\n"
          ]
        },
        {
          "output_type": "stream",
          "name": "stderr",
          "text": [
            "\rProcessing files:  63%|██████▎   | 92/147 [00:42<00:43,  1.28it/s]"
          ]
        },
        {
          "output_type": "stream",
          "name": "stdout",
          "text": [
            "✅ Saved result to: /content/drive/My Drive/Agitation_Detection_Project/smote_results_csvs/Participant1_Day2_final_features.csv\n"
          ]
        },
        {
          "output_type": "stream",
          "name": "stderr",
          "text": [
            "\rProcessing files:  63%|██████▎   | 93/147 [00:42<00:38,  1.39it/s]"
          ]
        },
        {
          "output_type": "stream",
          "name": "stdout",
          "text": [
            "✅ Saved result to: /content/drive/My Drive/Agitation_Detection_Project/smote_results_csvs/Participant1_Day3_final_features.csv\n"
          ]
        },
        {
          "output_type": "stream",
          "name": "stderr",
          "text": [
            "\rProcessing files:  64%|██████▍   | 94/147 [00:43<00:41,  1.27it/s]"
          ]
        },
        {
          "output_type": "stream",
          "name": "stdout",
          "text": [
            "✅ Saved result to: /content/drive/My Drive/Agitation_Detection_Project/smote_results_csvs/Participant1_Day5_final_features.csv\n"
          ]
        },
        {
          "output_type": "stream",
          "name": "stderr",
          "text": [
            "\rProcessing files:  65%|██████▍   | 95/147 [00:44<00:39,  1.32it/s]"
          ]
        },
        {
          "output_type": "stream",
          "name": "stdout",
          "text": [
            "✅ Saved result to: /content/drive/My Drive/Agitation_Detection_Project/smote_results_csvs/Participant1_Day4_final_features.csv\n"
          ]
        },
        {
          "output_type": "stream",
          "name": "stderr",
          "text": [
            "\rProcessing files:  66%|██████▌   | 97/147 [00:45<00:29,  1.67it/s]"
          ]
        },
        {
          "output_type": "stream",
          "name": "stdout",
          "text": [
            "✅ Saved result to: /content/drive/My Drive/Agitation_Detection_Project/smote_results_csvs/Participant1_Day9_final_features.csv\n"
          ]
        },
        {
          "output_type": "stream",
          "name": "stderr",
          "text": [
            "\rProcessing files:  67%|██████▋   | 98/147 [00:45<00:29,  1.69it/s]"
          ]
        },
        {
          "output_type": "stream",
          "name": "stdout",
          "text": [
            "✅ Saved result to: /content/drive/My Drive/Agitation_Detection_Project/smote_results_csvs/Participant1_Day6_final_features.csv\n"
          ]
        },
        {
          "output_type": "stream",
          "name": "stderr",
          "text": [
            "\rProcessing files:  67%|██████▋   | 99/147 [00:46<00:30,  1.55it/s]"
          ]
        },
        {
          "output_type": "stream",
          "name": "stdout",
          "text": [
            "✅ Saved result to: /content/drive/My Drive/Agitation_Detection_Project/smote_results_csvs/Participant1_Day8_final_features.csv\n"
          ]
        },
        {
          "output_type": "stream",
          "name": "stderr",
          "text": [
            "\rProcessing files:  68%|██████▊   | 100/147 [00:47<00:29,  1.60it/s]"
          ]
        },
        {
          "output_type": "stream",
          "name": "stdout",
          "text": [
            "✅ Saved result to: /content/drive/My Drive/Agitation_Detection_Project/smote_results_csvs/Participant20_Day1_final_features.csv\n"
          ]
        },
        {
          "output_type": "stream",
          "name": "stderr",
          "text": [
            "\rProcessing files:  69%|██████▊   | 101/147 [00:48<00:32,  1.42it/s]"
          ]
        },
        {
          "output_type": "stream",
          "name": "stdout",
          "text": [
            "✅ Saved result to: /content/drive/My Drive/Agitation_Detection_Project/smote_results_csvs/Participant2_Day10_final_features.csv\n"
          ]
        },
        {
          "output_type": "stream",
          "name": "stderr",
          "text": [
            "\rProcessing files:  69%|██████▉   | 102/147 [00:48<00:33,  1.34it/s]"
          ]
        },
        {
          "output_type": "stream",
          "name": "stdout",
          "text": [
            "✅ Saved result to: /content/drive/My Drive/Agitation_Detection_Project/smote_results_csvs/Participant2_Day12_final_features.csv\n"
          ]
        },
        {
          "output_type": "stream",
          "name": "stderr",
          "text": [
            "\rProcessing files:  70%|███████   | 103/147 [00:49<00:33,  1.32it/s]"
          ]
        },
        {
          "output_type": "stream",
          "name": "stdout",
          "text": [
            "✅ Saved result to: /content/drive/My Drive/Agitation_Detection_Project/smote_results_csvs/Participant2_Day13_final_features.csv\n"
          ]
        },
        {
          "output_type": "stream",
          "name": "stderr",
          "text": [
            "\rProcessing files:  71%|███████   | 104/147 [00:50<00:37,  1.14it/s]"
          ]
        },
        {
          "output_type": "stream",
          "name": "stdout",
          "text": [
            "✅ Saved result to: /content/drive/My Drive/Agitation_Detection_Project/smote_results_csvs/Participant2_Day11_final_features.csv\n"
          ]
        },
        {
          "output_type": "stream",
          "name": "stderr",
          "text": [
            "\rProcessing files:  71%|███████▏  | 105/147 [00:51<00:37,  1.13it/s]"
          ]
        },
        {
          "output_type": "stream",
          "name": "stdout",
          "text": [
            "✅ Saved result to: /content/drive/My Drive/Agitation_Detection_Project/smote_results_csvs/Participant2_Day14_final_features.csv\n"
          ]
        },
        {
          "output_type": "stream",
          "name": "stderr",
          "text": [
            "\rProcessing files:  72%|███████▏  | 106/147 [00:52<00:35,  1.14it/s]"
          ]
        },
        {
          "output_type": "stream",
          "name": "stdout",
          "text": [
            "✅ Saved result to: /content/drive/My Drive/Agitation_Detection_Project/smote_results_csvs/Participant2_Day17_final_features.csv\n"
          ]
        },
        {
          "output_type": "stream",
          "name": "stderr",
          "text": [
            "\rProcessing files:  73%|███████▎  | 107/147 [00:53<00:34,  1.17it/s]"
          ]
        },
        {
          "output_type": "stream",
          "name": "stdout",
          "text": [
            "✅ Saved result to: /content/drive/My Drive/Agitation_Detection_Project/smote_results_csvs/Participant2_Day15_final_features.csv\n"
          ]
        },
        {
          "output_type": "stream",
          "name": "stderr",
          "text": [
            "\rProcessing files:  73%|███████▎  | 108/147 [00:54<00:31,  1.23it/s]"
          ]
        },
        {
          "output_type": "stream",
          "name": "stdout",
          "text": [
            "✅ Saved result to: /content/drive/My Drive/Agitation_Detection_Project/smote_results_csvs/Participant2_Day18_final_features.csv\n"
          ]
        },
        {
          "output_type": "stream",
          "name": "stderr",
          "text": [
            "\rProcessing files:  74%|███████▍  | 109/147 [00:54<00:29,  1.28it/s]"
          ]
        },
        {
          "output_type": "stream",
          "name": "stdout",
          "text": [
            "✅ Saved result to: /content/drive/My Drive/Agitation_Detection_Project/smote_results_csvs/Participant2_Day19_final_features.csv\n"
          ]
        },
        {
          "output_type": "stream",
          "name": "stderr",
          "text": [
            "\rProcessing files:  75%|███████▍  | 110/147 [00:55<00:27,  1.34it/s]"
          ]
        },
        {
          "output_type": "stream",
          "name": "stdout",
          "text": [
            "✅ Saved result to: /content/drive/My Drive/Agitation_Detection_Project/smote_results_csvs/Participant2_Day1_final_features.csv\n"
          ]
        },
        {
          "output_type": "stream",
          "name": "stderr",
          "text": [
            "\rProcessing files:  76%|███████▌  | 111/147 [00:56<00:25,  1.39it/s]"
          ]
        },
        {
          "output_type": "stream",
          "name": "stdout",
          "text": [
            "✅ Saved result to: /content/drive/My Drive/Agitation_Detection_Project/smote_results_csvs/Participant2_Day3_final_features.csv\n"
          ]
        },
        {
          "output_type": "stream",
          "name": "stderr",
          "text": [
            "\rProcessing files:  76%|███████▌  | 112/147 [00:56<00:24,  1.44it/s]"
          ]
        },
        {
          "output_type": "stream",
          "name": "stdout",
          "text": [
            "✅ Saved result to: /content/drive/My Drive/Agitation_Detection_Project/smote_results_csvs/Participant2_Day6_final_features.csv\n"
          ]
        },
        {
          "output_type": "stream",
          "name": "stderr",
          "text": [
            "\rProcessing files:  77%|███████▋  | 113/147 [00:57<00:23,  1.43it/s]"
          ]
        },
        {
          "output_type": "stream",
          "name": "stdout",
          "text": [
            "✅ Saved result to: /content/drive/My Drive/Agitation_Detection_Project/smote_results_csvs/Participant2_Day22_final_features.csv\n"
          ]
        },
        {
          "output_type": "stream",
          "name": "stderr",
          "text": [
            "\rProcessing files:  78%|███████▊  | 114/147 [00:58<00:21,  1.52it/s]"
          ]
        },
        {
          "output_type": "stream",
          "name": "stdout",
          "text": [
            "✅ Saved result to: /content/drive/My Drive/Agitation_Detection_Project/smote_results_csvs/Participant2_Day7_final_features.csv\n"
          ]
        },
        {
          "output_type": "stream",
          "name": "stderr",
          "text": [
            "\rProcessing files:  78%|███████▊  | 115/147 [00:59<00:23,  1.36it/s]"
          ]
        },
        {
          "output_type": "stream",
          "name": "stdout",
          "text": [
            "✅ Saved result to: /content/drive/My Drive/Agitation_Detection_Project/smote_results_csvs/Participant2_Day5_final_features.csv\n"
          ]
        },
        {
          "output_type": "stream",
          "name": "stderr",
          "text": [
            "\rProcessing files:  79%|███████▉  | 116/147 [00:59<00:21,  1.46it/s]"
          ]
        },
        {
          "output_type": "stream",
          "name": "stdout",
          "text": [
            "✅ Saved result to: /content/drive/My Drive/Agitation_Detection_Project/smote_results_csvs/Participant2_Day2_final_features.csv\n"
          ]
        },
        {
          "output_type": "stream",
          "name": "stderr",
          "text": [
            "\rProcessing files:  80%|███████▉  | 117/147 [01:00<00:21,  1.42it/s]"
          ]
        },
        {
          "output_type": "stream",
          "name": "stdout",
          "text": [
            "✅ Saved result to: /content/drive/My Drive/Agitation_Detection_Project/smote_results_csvs/Participant2_Day8_final_features.csv\n"
          ]
        },
        {
          "output_type": "stream",
          "name": "stderr",
          "text": [
            "\rProcessing files:  80%|████████  | 118/147 [01:01<00:20,  1.40it/s]"
          ]
        },
        {
          "output_type": "stream",
          "name": "stdout",
          "text": [
            "✅ Saved result to: /content/drive/My Drive/Agitation_Detection_Project/smote_results_csvs/Participant2_Day9_final_features.csv\n"
          ]
        },
        {
          "output_type": "stream",
          "name": "stderr",
          "text": [
            "\rProcessing files:  81%|████████  | 119/147 [01:02<00:21,  1.31it/s]"
          ]
        },
        {
          "output_type": "stream",
          "name": "stdout",
          "text": [
            "✅ Saved result to: /content/drive/My Drive/Agitation_Detection_Project/smote_results_csvs/Participant3_Day12_final_features.csv\n"
          ]
        },
        {
          "output_type": "stream",
          "name": "stderr",
          "text": [
            "\rProcessing files:  82%|████████▏ | 120/147 [01:03<00:23,  1.13it/s]"
          ]
        },
        {
          "output_type": "stream",
          "name": "stdout",
          "text": [
            "✅ Saved result to: /content/drive/My Drive/Agitation_Detection_Project/smote_results_csvs/Participant3_Day10_final_features.csv\n"
          ]
        },
        {
          "output_type": "stream",
          "name": "stderr",
          "text": [
            "\rProcessing files:  82%|████████▏ | 121/147 [01:04<00:25,  1.03it/s]"
          ]
        },
        {
          "output_type": "stream",
          "name": "stdout",
          "text": [
            "✅ Saved result to: /content/drive/My Drive/Agitation_Detection_Project/smote_results_csvs/Participant3_Day1_final_features.csv\n"
          ]
        },
        {
          "output_type": "stream",
          "name": "stderr",
          "text": [
            "\rProcessing files:  84%|████████▎ | 123/147 [01:05<00:19,  1.21it/s]"
          ]
        },
        {
          "output_type": "stream",
          "name": "stdout",
          "text": [
            "✅ Saved result to: /content/drive/My Drive/Agitation_Detection_Project/smote_results_csvs/Participant3_Day26_final_features.csv\n"
          ]
        },
        {
          "output_type": "stream",
          "name": "stderr",
          "text": [
            "\rProcessing files:  84%|████████▍ | 124/147 [01:06<00:20,  1.14it/s]"
          ]
        },
        {
          "output_type": "stream",
          "name": "stdout",
          "text": [
            "✅ Saved result to: /content/drive/My Drive/Agitation_Detection_Project/smote_results_csvs/Participant3_Day23_final_features.csv\n"
          ]
        },
        {
          "output_type": "stream",
          "name": "stderr",
          "text": [
            "\rProcessing files:  85%|████████▌ | 125/147 [01:07<00:19,  1.13it/s]"
          ]
        },
        {
          "output_type": "stream",
          "name": "stdout",
          "text": [
            "✅ Saved result to: /content/drive/My Drive/Agitation_Detection_Project/smote_results_csvs/Participant3_Day5_final_features.csv\n"
          ]
        },
        {
          "output_type": "stream",
          "name": "stderr",
          "text": [
            "\rProcessing files:  86%|████████▌ | 126/147 [01:08<00:17,  1.21it/s]"
          ]
        },
        {
          "output_type": "stream",
          "name": "stdout",
          "text": [
            "✅ Saved result to: /content/drive/My Drive/Agitation_Detection_Project/smote_results_csvs/Participant3_Day3_final_features.csv\n"
          ]
        },
        {
          "output_type": "stream",
          "name": "stderr",
          "text": [
            "\rProcessing files:  86%|████████▋ | 127/147 [01:08<00:15,  1.30it/s]"
          ]
        },
        {
          "output_type": "stream",
          "name": "stdout",
          "text": [
            "✅ Saved result to: /content/drive/My Drive/Agitation_Detection_Project/smote_results_csvs/Participant3_Day34_final_features.csv\n"
          ]
        },
        {
          "output_type": "stream",
          "name": "stderr",
          "text": [
            "\rProcessing files:  87%|████████▋ | 128/147 [01:09<00:12,  1.50it/s]"
          ]
        },
        {
          "output_type": "stream",
          "name": "stdout",
          "text": [
            "✅ Saved result to: /content/drive/My Drive/Agitation_Detection_Project/smote_results_csvs/Participant3_Day4_final_features.csv\n"
          ]
        },
        {
          "output_type": "stream",
          "name": "stderr",
          "text": [
            "\rProcessing files:  88%|████████▊ | 129/147 [01:10<00:12,  1.45it/s]"
          ]
        },
        {
          "output_type": "stream",
          "name": "stdout",
          "text": [
            "✅ Saved result to: /content/drive/My Drive/Agitation_Detection_Project/smote_results_csvs/Participant3_Day6_final_features.csv\n"
          ]
        },
        {
          "output_type": "stream",
          "name": "stderr",
          "text": [
            "\rProcessing files:  89%|████████▉ | 131/147 [01:11<00:09,  1.62it/s]"
          ]
        },
        {
          "output_type": "stream",
          "name": "stdout",
          "text": [
            "✅ Saved result to: /content/drive/My Drive/Agitation_Detection_Project/smote_results_csvs/Participant4_Day1_final_features.csv\n"
          ]
        },
        {
          "output_type": "stream",
          "name": "stderr",
          "text": [
            "\rProcessing files:  90%|████████▉ | 132/147 [01:12<00:10,  1.40it/s]"
          ]
        },
        {
          "output_type": "stream",
          "name": "stdout",
          "text": [
            "✅ Saved result to: /content/drive/My Drive/Agitation_Detection_Project/smote_results_csvs/Participant4_Day2_final_features.csv\n"
          ]
        },
        {
          "output_type": "stream",
          "name": "stderr",
          "text": [
            "\rProcessing files:  90%|█████████ | 133/147 [01:12<00:09,  1.46it/s]"
          ]
        },
        {
          "output_type": "stream",
          "name": "stdout",
          "text": [
            "✅ Saved result to: /content/drive/My Drive/Agitation_Detection_Project/smote_results_csvs/Participant5_Day10_final_features.csv\n"
          ]
        },
        {
          "output_type": "stream",
          "name": "stderr",
          "text": [
            "\rProcessing files:  91%|█████████ | 134/147 [01:13<00:09,  1.34it/s]"
          ]
        },
        {
          "output_type": "stream",
          "name": "stdout",
          "text": [
            "✅ Saved result to: /content/drive/My Drive/Agitation_Detection_Project/smote_results_csvs/Participant5_Day11_final_features.csv\n"
          ]
        },
        {
          "output_type": "stream",
          "name": "stderr",
          "text": [
            "\rProcessing files:  92%|█████████▏| 135/147 [01:14<00:08,  1.34it/s]"
          ]
        },
        {
          "output_type": "stream",
          "name": "stdout",
          "text": [
            "✅ Saved result to: /content/drive/My Drive/Agitation_Detection_Project/smote_results_csvs/Participant5_Day13_final_features.csv\n"
          ]
        },
        {
          "output_type": "stream",
          "name": "stderr",
          "text": [
            "\rProcessing files:  93%|█████████▎| 136/147 [01:14<00:07,  1.48it/s]"
          ]
        },
        {
          "output_type": "stream",
          "name": "stdout",
          "text": [
            "✅ Saved result to: /content/drive/My Drive/Agitation_Detection_Project/smote_results_csvs/Participant5_Day15_final_features.csv\n"
          ]
        },
        {
          "output_type": "stream",
          "name": "stderr",
          "text": [
            "\rProcessing files:  93%|█████████▎| 137/147 [01:15<00:06,  1.51it/s]"
          ]
        },
        {
          "output_type": "stream",
          "name": "stdout",
          "text": [
            "✅ Saved result to: /content/drive/My Drive/Agitation_Detection_Project/smote_results_csvs/Participant5_Day3_final_features.csv\n"
          ]
        },
        {
          "output_type": "stream",
          "name": "stderr",
          "text": [
            "\rProcessing files:  94%|█████████▍| 138/147 [01:16<00:06,  1.44it/s]"
          ]
        },
        {
          "output_type": "stream",
          "name": "stdout",
          "text": [
            "✅ Saved result to: /content/drive/My Drive/Agitation_Detection_Project/smote_results_csvs/Participant6_Day1_final_features.csv\n"
          ]
        },
        {
          "output_type": "stream",
          "name": "stderr",
          "text": [
            "\rProcessing files:  95%|█████████▍| 139/147 [01:17<00:07,  1.09it/s]"
          ]
        },
        {
          "output_type": "stream",
          "name": "stdout",
          "text": [
            "✅ Saved result to: /content/drive/My Drive/Agitation_Detection_Project/smote_results_csvs/Participant6_Day20_final_features.csv\n"
          ]
        },
        {
          "output_type": "stream",
          "name": "stderr",
          "text": [
            "\rProcessing files:  95%|█████████▌| 140/147 [01:19<00:07,  1.04s/it]"
          ]
        },
        {
          "output_type": "stream",
          "name": "stdout",
          "text": [
            "✅ Saved result to: /content/drive/My Drive/Agitation_Detection_Project/smote_results_csvs/Participant6_Day22_final_features.csv\n"
          ]
        },
        {
          "output_type": "stream",
          "name": "stderr",
          "text": [
            "\rProcessing files:  96%|█████████▌| 141/147 [01:20<00:06,  1.05s/it]"
          ]
        },
        {
          "output_type": "stream",
          "name": "stdout",
          "text": [
            "✅ Saved result to: /content/drive/My Drive/Agitation_Detection_Project/smote_results_csvs/Participant6_Day8_final_features.csv\n"
          ]
        },
        {
          "output_type": "stream",
          "name": "stderr",
          "text": [
            "\rProcessing files:  97%|█████████▋| 142/147 [01:20<00:04,  1.08it/s]"
          ]
        },
        {
          "output_type": "stream",
          "name": "stdout",
          "text": [
            "✅ Saved result to: /content/drive/My Drive/Agitation_Detection_Project/smote_results_csvs/Participant6_Day23_final_features.csv\n"
          ]
        },
        {
          "output_type": "stream",
          "name": "stderr",
          "text": [
            "\rProcessing files:  97%|█████████▋| 143/147 [01:21<00:03,  1.20it/s]"
          ]
        },
        {
          "output_type": "stream",
          "name": "stdout",
          "text": [
            "✅ Saved result to: /content/drive/My Drive/Agitation_Detection_Project/smote_results_csvs/Participant6_Day7_final_features.csv\n"
          ]
        },
        {
          "output_type": "stream",
          "name": "stderr",
          "text": [
            "\rProcessing files:  98%|█████████▊| 144/147 [01:21<00:02,  1.35it/s]"
          ]
        },
        {
          "output_type": "stream",
          "name": "stdout",
          "text": [
            "✅ Saved result to: /content/drive/My Drive/Agitation_Detection_Project/smote_results_csvs/Participant6_Day27_final_features.csv\n"
          ]
        },
        {
          "output_type": "stream",
          "name": "stderr",
          "text": [
            "\rProcessing files:  99%|█████████▊| 145/147 [01:22<00:01,  1.33it/s]"
          ]
        },
        {
          "output_type": "stream",
          "name": "stdout",
          "text": [
            "✅ Saved result to: /content/drive/My Drive/Agitation_Detection_Project/smote_results_csvs/Participant8_Day1_final_features.csv\n"
          ]
        },
        {
          "output_type": "stream",
          "name": "stderr",
          "text": [
            "\rProcessing files:  99%|█████████▉| 146/147 [01:23<00:00,  1.37it/s]"
          ]
        },
        {
          "output_type": "stream",
          "name": "stdout",
          "text": [
            "✅ Saved result to: /content/drive/My Drive/Agitation_Detection_Project/smote_results_csvs/Participant8_Day5_final_features.csv\n"
          ]
        },
        {
          "output_type": "stream",
          "name": "stderr",
          "text": [
            "Processing files: 100%|██████████| 147/147 [01:24<00:00,  1.75it/s]"
          ]
        },
        {
          "output_type": "stream",
          "name": "stdout",
          "text": [
            "✅ Saved result to: /content/drive/My Drive/Agitation_Detection_Project/smote_results_csvs/Participant9_Day4_final_features.csv\n",
            "\n",
            "📊 Summary:\n",
            "🧾 Original files found: 147\n",
            "✅ Files successfully processed with SMOTE: 109\n"
          ]
        },
        {
          "output_type": "stream",
          "name": "stderr",
          "text": [
            "\n"
          ]
        }
      ]
    },
    {
      "cell_type": "markdown",
      "source": [
        "# Get the SMOTE Performance Summary"
      ],
      "metadata": {
        "id": "GWWtk5yMF9C5"
      }
    },
    {
      "cell_type": "code",
      "source": [
        "import os\n",
        "import glob\n",
        "import pandas as pd\n",
        "\n",
        "# 📁 Folder containing SMOTE model result files\n",
        "RESULTS_DIR = \"/content/drive/My Drive/Agitation_Detection_Project/smote_results_csvs\"\n",
        "\n",
        "# 🔍 Load all result CSVs\n",
        "result_files = glob.glob(os.path.join(RESULTS_DIR, '*.csv'))\n",
        "print(f\"📂 Loaded {len(result_files)} result files.\")\n",
        "\n",
        "# 📄 Combine all results into one DataFrame\n",
        "all_results = pd.concat([pd.read_csv(f) for f in result_files], ignore_index=True)\n",
        "print(\"🔢 Combined results shape:\", all_results.shape)\n",
        "print(\"📌 Columns in DataFrame:\", all_results.columns.tolist())\n",
        "\n",
        "# 🏷️ Add a 'model' column with value \"SMOTE\"\n",
        "all_results['model'] = 'SMOTE'\n",
        "\n",
        "# 📊 Performance Summary for SMOTE Model\n",
        "metrics = ['precision', 'recall', 'f1_score']\n",
        "summary_stats = (\n",
        "    all_results.groupby('model')[metrics]\n",
        "    .agg(['mean', 'median', 'std'])\n",
        "    .round(4)\n",
        ")\n",
        "\n",
        "print(\"\\n📊 Performance Summary for SMOTE Model:\")\n",
        "print(summary_stats)"
      ],
      "metadata": {
        "colab": {
          "base_uri": "https://localhost:8080/"
        },
        "id": "loJh3nAjuwgh",
        "outputId": "dc9ce8d3-dd9e-4ab5-c05e-8603c2f4a915"
      },
      "execution_count": 8,
      "outputs": [
        {
          "output_type": "stream",
          "name": "stdout",
          "text": [
            "📂 Loaded 110 result files.\n",
            "🔢 Combined results shape: (327, 6)\n",
            "📌 Columns in DataFrame: ['file', 'positive_samples', 'k_neighbors', 'precision', 'recall', 'f1_score']\n",
            "\n",
            "📊 Performance Summary for SMOTE Model:\n",
            "      precision               recall                f1_score                \n",
            "           mean median    std   mean median     std     mean  median     std\n",
            "model                                                                       \n",
            "SMOTE    0.6913    0.8  0.326  0.521    0.5  0.2996   0.5728  0.6341  0.2946\n"
          ]
        }
      ]
    },
    {
      "cell_type": "markdown",
      "source": [
        "# 🧪 Approach 2: Cluster-Based Oversampling (Unsupervised)"
      ],
      "metadata": {
        "id": "SZlVLxo9zmtI"
      }
    },
    {
      "cell_type": "code",
      "source": [
        "import os\n",
        "import pandas as pd\n",
        "import numpy as np\n",
        "import warnings\n",
        "from sklearn.preprocessing import StandardScaler\n",
        "from sklearn.ensemble import RandomForestClassifier\n",
        "from sklearn.metrics import precision_score, recall_score, f1_score, roc_auc_score\n",
        "from sklearn.model_selection import train_test_split\n",
        "import hdbscan\n",
        "from sklearn.exceptions import UndefinedMetricWarning\n",
        "from tqdm import tqdm\n",
        "import random\n",
        "\n",
        "# --- Suppress warnings ---\n",
        "warnings.filterwarnings(\"ignore\", category=UndefinedMetricWarning)\n",
        "warnings.filterwarnings(\"ignore\", category=FutureWarning)\n",
        "\n",
        "# --- CONFIG ---\n",
        "data_dir = \"/content/drive/My Drive/Agitation_Detection_Project/normalized_features_csvs\"\n",
        "results_dir = \"/content/drive/My Drive/Agitation_Detection_Project/cluster_results_csvs\"\n",
        "os.makedirs(results_dir, exist_ok=True)\n",
        "results = []\n",
        "\n",
        "# --- Preprocessing ---\n",
        "def window_data_1min(df):\n",
        "    df['start_time'] = pd.to_datetime(df['start_time'], errors='coerce')\n",
        "    df = df.set_index('start_time').sort_index()\n",
        "    agg_dict = {}\n",
        "    for col in df.columns:\n",
        "        if col == 'label':\n",
        "            agg_dict[col] = 'max'\n",
        "        elif pd.api.types.is_numeric_dtype(df[col]):\n",
        "            agg_dict[col] = ['mean', 'std']\n",
        "    df_resampled = df.resample('60s').agg(agg_dict)\n",
        "    df_resampled.columns = ['_'.join(col).strip() if isinstance(col, tuple) else col for col in df_resampled.columns]\n",
        "    df_resampled = df_resampled.rename(columns={'label_max': 'label'}) if 'label_max' in df_resampled.columns else df_resampled.assign(label=0)\n",
        "    return df_resampled.dropna().reset_index()\n",
        "\n",
        "def enrich_features(df):\n",
        "    signal_cols = df.select_dtypes(include='number').columns.difference(['label'])\n",
        "    df['signal_mean'] = df[signal_cols].mean(axis=1)\n",
        "    df['duration_sec'] = 60\n",
        "    df['duration_times_mean'] = df['duration_sec'] * df['signal_mean']\n",
        "    return df\n",
        "\n",
        "# --- Evaluation ---\n",
        "def evaluate_model(name, y_pred, y_true):\n",
        "    try:\n",
        "        auc = roc_auc_score(y_true, y_pred)\n",
        "    except ValueError:\n",
        "        auc = None\n",
        "    return {\n",
        "        'model': name,\n",
        "        'precision': precision_score(y_true, y_pred, zero_division=0),\n",
        "        'recall': recall_score(y_true, y_pred, zero_division=0),\n",
        "        'f1_score': f1_score(y_true, y_pred, zero_division=0),\n",
        "        'auc_roc': auc,\n",
        "        'tp': ((y_pred == 1) & (y_true == 1)).sum(),\n",
        "        'fp': ((y_pred == 1) & (y_true == 0)).sum(),\n",
        "        'fn': ((y_pred == 0) & (y_true == 1)).sum(),\n",
        "        'predicted_anomalies': (y_pred == 1).sum(),\n",
        "        'agitated_events': (y_true == 1).sum()\n",
        "    }\n",
        "\n",
        "# --- Geometric Perturbation ---\n",
        "def generate_synthetic(cluster_data, n_samples=50):\n",
        "    synthetic = [\n",
        "        cluster_data[i] + np.random.uniform(0.05, 0.3) * (cluster_data[j] - cluster_data[i])\n",
        "        for _ in range(n_samples)\n",
        "        for i, j in [random.sample(range(len(cluster_data)), 2)]\n",
        "    ]\n",
        "    return np.array(synthetic)\n",
        "\n",
        "# --- Main Loop ---\n",
        "for file in tqdm(os.listdir(data_dir)):\n",
        "    if not file.endswith('.csv'):\n",
        "        continue\n",
        "\n",
        "    input_path = os.path.join(data_dir, file)\n",
        "    try:\n",
        "        df = pd.read_csv(input_path)\n",
        "        df = window_data_1min(df)\n",
        "        df = enrich_features(df)\n",
        "\n",
        "        y = df['label'].astype(int).values\n",
        "        if y.sum() == 0 or len(np.unique(y)) < 2 or len(y) < 20:\n",
        "            continue\n",
        "\n",
        "        exclude_cols = ['label'] + df.select_dtypes(['object', 'datetime', 'category']).columns.tolist()\n",
        "        X = df.drop(columns=exclude_cols)\n",
        "        X = X.apply(pd.to_numeric, errors='coerce').fillna(X.mean())\n",
        "        X_scaled = StandardScaler().fit_transform(X)\n",
        "\n",
        "        # --- HDBSCAN Clustering ---\n",
        "        clusters = hdbscan.HDBSCAN(min_cluster_size=6, min_samples=4).fit_predict(X_scaled)\n",
        "        clustered_df = pd.DataFrame(X_scaled)\n",
        "        clustered_df['label'] = y\n",
        "        clustered_df['cluster'] = clusters\n",
        "        clustered_df = clustered_df[clustered_df['cluster'] != -1]\n",
        "\n",
        "        if clustered_df.empty:\n",
        "            continue\n",
        "\n",
        "        # --- Identify Minority Clusters (high anomaly ratio)\n",
        "        minority_clusters = [\n",
        "            cid for cid, group in clustered_df.groupby('cluster')\n",
        "            if group['label'].mean() > 0.3 and len(group) >= 3\n",
        "        ]\n",
        "\n",
        "        synthetic_data = []\n",
        "        for cid in minority_clusters:\n",
        "            group = clustered_df[clustered_df['cluster'] == cid].drop(columns=['label', 'cluster']).values\n",
        "            synthetic_data.append(generate_synthetic(group, n_samples=50))\n",
        "\n",
        "        # --- Oversample if clusters found\n",
        "        if synthetic_data:\n",
        "            X_aug = np.vstack([X_scaled] + synthetic_data)\n",
        "            y_aug = np.concatenate([y] + [np.ones(len(s)) for s in synthetic_data])\n",
        "            model_label = \"ClusterOversampled\"\n",
        "        else:\n",
        "            X_aug, y_aug = X_scaled, y\n",
        "            model_label = \"Original\"\n",
        "\n",
        "        X_train, X_test, y_train, y_test = train_test_split(X_aug, y_aug, test_size=0.3, stratify=y_aug, random_state=42)\n",
        "        clf = RandomForestClassifier(random_state=42)\n",
        "        clf.fit(X_train, y_train)\n",
        "        y_pred = clf.predict(X_test)\n",
        "\n",
        "        result = evaluate_model(model_label, y_pred, y_test)\n",
        "        result['file'] = file\n",
        "        results.append(result)\n",
        "\n",
        "    except Exception as e:\n",
        "        results.append({'file': file, 'model': 'failed', 'note': str(e)})\n",
        "\n"
      ],
      "metadata": {
        "colab": {
          "base_uri": "https://localhost:8080/"
        },
        "id": "YLx-5R_uznoD",
        "outputId": "4759b979-8f2e-42ce-ad58-fe51028b3808"
      },
      "execution_count": 9,
      "outputs": [
        {
          "output_type": "stream",
          "name": "stderr",
          "text": [
            "100%|██████████| 435/435 [01:21<00:00,  5.35it/s]\n"
          ]
        }
      ]
    },
    {
      "cell_type": "markdown",
      "source": [
        "# Get the Perturbed Cluster Performance Summary"
      ],
      "metadata": {
        "id": "k5kjujxpGs9c"
      }
    },
    {
      "cell_type": "code",
      "source": [
        "# --- Summary ---\n",
        "results_df = pd.DataFrame(results)\n",
        "results_df.to_csv(os.path.join(results_dir, 'results.csv'), index=False)  # Save full results\n",
        "filtered_df = results_df[results_df['model'] != 'failed']\n",
        "best_by_file = filtered_df.loc[filtered_df.groupby('file')['f1_score'].idxmax()]\n",
        "model_wins = best_by_file['model'].value_counts().reset_index(name='f1_wins')\n",
        "model_wins.columns = ['model', 'f1_wins']\n",
        "model_wins.to_csv(os.path.join(results_dir, 'model_wins.csv'), index=False)  # Save model wins\n",
        "\n",
        "agg_stats = filtered_df.groupby('model')[['precision', 'recall', 'f1_score', 'auc_roc']].agg(['mean', 'median', 'std']).round(4)\n",
        "agg_stats.to_csv(os.path.join(results_dir, 'agg_stats.csv'))  # Save aggregated stats\n",
        "\n",
        "print(\"\\n🏆 F1 Score Winners by Model:\")\n",
        "print(model_wins)\n",
        "\n",
        "print(\"\\n📊 Aggregated Performance Stats:\")\n",
        "print(agg_stats)\n",
        "\n",
        "print(f\"\\n✅ Results saved to: {results_dir}\")"
      ],
      "metadata": {
        "id": "8YpnYk0WGoDx",
        "outputId": "e87aea31-da28-433e-874d-f586afc5a150",
        "colab": {
          "base_uri": "https://localhost:8080/"
        }
      },
      "execution_count": 6,
      "outputs": [
        {
          "output_type": "stream",
          "name": "stdout",
          "text": [
            "\n",
            "🏆 F1 Score Winners by Model:\n",
            "                model  f1_wins\n",
            "0            Original      134\n",
            "1  ClusterOversampled        5\n",
            "\n",
            "📊 Aggregated Performance Stats:\n",
            "                   precision                 recall                f1_score  \\\n",
            "                        mean median     std    mean median     std     mean   \n",
            "model                                                                         \n",
            "ClusterOversampled    0.8486   0.85  0.0654  0.7085    0.7  0.1585   0.7629   \n",
            "Original              0.1694   0.00  0.3690  0.0720    0.0  0.1838   0.0950   \n",
            "\n",
            "                                  auc_roc                  \n",
            "                   median     std    mean  median     std  \n",
            "model                                                      \n",
            "ClusterOversampled    0.8  0.1052  0.8273  0.8466  0.0835  \n",
            "Original              0.0  0.2231  0.5357  0.5000  0.0914  \n",
            "\n",
            "✅ Results saved to: /content/drive/My Drive/Agitation_Detection_Project/cluster_results_csvs\n"
          ]
        }
      ]
    }
  ]
}